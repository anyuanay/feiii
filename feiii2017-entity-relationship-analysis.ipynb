{
 "cells": [
  {
   "cell_type": "code",
   "execution_count": 1,
   "metadata": {
    "collapsed": true
   },
   "outputs": [],
   "source": [
    "import pandas as pd"
   ]
  },
  {
   "cell_type": "code",
   "execution_count": 2,
   "metadata": {
    "collapsed": true
   },
   "outputs": [],
   "source": [
    "df = pd.read_csv(\"feiii-2017/FEIIIY2_csv/NIC_Financial_Entities.csv\")"
   ]
  },
  {
   "cell_type": "code",
   "execution_count": 3,
   "metadata": {
    "collapsed": false
   },
   "outputs": [
    {
     "data": {
      "text/html": [
       "<div>\n",
       "<table border=\"1\" class=\"dataframe\">\n",
       "  <thead>\n",
       "    <tr style=\"text-align: right;\">\n",
       "      <th></th>\n",
       "      <th>RSSD_ID</th>\n",
       "      <th>NAME</th>\n",
       "      <th>STREET</th>\n",
       "      <th>CITY</th>\n",
       "      <th>STATE</th>\n",
       "      <th>ZIP</th>\n",
       "      <th>COUNTRY</th>\n",
       "    </tr>\n",
       "  </thead>\n",
       "  <tbody>\n",
       "    <tr>\n",
       "      <th>0</th>\n",
       "      <td>1026016</td>\n",
       "      <td>BANKAMERICA CORPORATION</td>\n",
       "      <td>555 CALIFORNIA STREET</td>\n",
       "      <td>SAN FRANCISCO</td>\n",
       "      <td>CA</td>\n",
       "      <td>94104</td>\n",
       "      <td>UNITED STATES</td>\n",
       "    </tr>\n",
       "    <tr>\n",
       "      <th>1</th>\n",
       "      <td>1026632</td>\n",
       "      <td>CHARLES SCHWAB CORPORATION, THE</td>\n",
       "      <td>211 MAIN STREET</td>\n",
       "      <td>SAN FRANCISCO</td>\n",
       "      <td>CA</td>\n",
       "      <td>94105</td>\n",
       "      <td>UNITED STATES</td>\n",
       "    </tr>\n",
       "    <tr>\n",
       "      <th>2</th>\n",
       "      <td>1027004</td>\n",
       "      <td>ZIONS BANCORPORATION</td>\n",
       "      <td>ONE SOUTH MAIN STREET, 15TH FLOOR</td>\n",
       "      <td>SALT LAKE CITY</td>\n",
       "      <td>UT</td>\n",
       "      <td>84133</td>\n",
       "      <td>UNITED STATES</td>\n",
       "    </tr>\n",
       "    <tr>\n",
       "      <th>3</th>\n",
       "      <td>1037003</td>\n",
       "      <td>M&amp;T BANK CORPORATION</td>\n",
       "      <td>ONE M&amp;T PLAZA</td>\n",
       "      <td>BUFFALO</td>\n",
       "      <td>NY</td>\n",
       "      <td>142032399</td>\n",
       "      <td>UNITED STATES</td>\n",
       "    </tr>\n",
       "    <tr>\n",
       "      <th>4</th>\n",
       "      <td>1039502</td>\n",
       "      <td>JPMORGAN CHASE &amp; CO.</td>\n",
       "      <td>270 PARK AVENUE</td>\n",
       "      <td>NEW YORK</td>\n",
       "      <td>NY</td>\n",
       "      <td>10017</td>\n",
       "      <td>UNITED STATES</td>\n",
       "    </tr>\n",
       "  </tbody>\n",
       "</table>\n",
       "</div>"
      ],
      "text/plain": [
       "   RSSD_ID                             NAME  \\\n",
       "0  1026016          BANKAMERICA CORPORATION   \n",
       "1  1026632  CHARLES SCHWAB CORPORATION, THE   \n",
       "2  1027004             ZIONS BANCORPORATION   \n",
       "3  1037003             M&T BANK CORPORATION   \n",
       "4  1039502             JPMORGAN CHASE & CO.   \n",
       "\n",
       "                              STREET            CITY STATE        ZIP  \\\n",
       "0              555 CALIFORNIA STREET   SAN FRANCISCO    CA      94104   \n",
       "1                    211 MAIN STREET   SAN FRANCISCO    CA      94105   \n",
       "2  ONE SOUTH MAIN STREET, 15TH FLOOR  SALT LAKE CITY    UT      84133   \n",
       "3                      ONE M&T PLAZA         BUFFALO    NY  142032399   \n",
       "4                    270 PARK AVENUE        NEW YORK    NY      10017   \n",
       "\n",
       "         COUNTRY  \n",
       "0  UNITED STATES  \n",
       "1  UNITED STATES  \n",
       "2  UNITED STATES  \n",
       "3  UNITED STATES  \n",
       "4  UNITED STATES  "
      ]
     },
     "execution_count": 3,
     "metadata": {},
     "output_type": "execute_result"
    }
   ],
   "source": [
    "df.head()"
   ]
  },
  {
   "cell_type": "code",
   "execution_count": null,
   "metadata": {
    "collapsed": true
   },
   "outputs": [],
   "source": []
  }
 ],
 "metadata": {
  "kernelspec": {
   "display_name": "Python 2",
   "language": "python",
   "name": "python2"
  },
  "language_info": {
   "codemirror_mode": {
    "name": "ipython",
    "version": 2
   },
   "file_extension": ".py",
   "mimetype": "text/x-python",
   "name": "python",
   "nbconvert_exporter": "python",
   "pygments_lexer": "ipython2",
   "version": "2.7.13"
  }
 },
 "nbformat": 4,
 "nbformat_minor": 2
}
